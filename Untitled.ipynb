{
 "cells": [
  {
   "cell_type": "code",
   "execution_count": 2,
   "metadata": {},
   "outputs": [
    {
     "name": "stdout",
     "output_type": "stream",
     "text": [
      "Please enter a noun: dick\n",
      "Please enter a noun: vagina\n",
      "Please enter a noun: ejaculate\n",
      "Please enter an adjective: throbbing\n",
      "Please enter an adjective: wet\n",
      "Please enter an adjective: engorged\n",
      "Please enter an adjective: sleazy\n",
      "Once upon a time int the kingdom of dick, there lived a throbbing adventurer named Oscar. The kingdom was a peaceful kingdom,  where the animals roamed free and the food was plentiful. Ruling over the kingdom was wet King Nickolaus and Queen Lily.       Everyone in the kingdom was happy, until one day a villian named Donald came into the castle and stole a sacred vagina. King Nickolaus and Queen Lily didn't know what to do, they wandered the countryside for days trying to come up with a plan. Finally, they met Oscar. Oscar told Nickolaus not to worry, and set off to take back what Donald had taken from the kingdom. Oscar hopped on a zebra and rode it to the engorged cave where Donald lived. Oscar tiptoed into the cave and yelled SCREW YOU. Donald was startled and dropped the sacred item. Oscar grabbed it and raced back to King Nicholaus. King Nickolaus was so greatful he gave Oscar a sleazy ejaculate in exchange for his appreciation. Everyone in the Kingdom was so happy, they celebrated by eating delicious food. Donald never returned to the kingdom again and everyone lived happily ever after.\n"
     ]
    }
   ],
   "source": [
    "#\"Once upon a time int the kingdom of {}, there lived a {} adventurer named Oscar. The kingdom was a peaceful kingdom, where the animals raomed free and the food was plentiful. Ruling over the kingdom was {} King Nickolaus and Queen Lily. Everyone in the kingdom was happy, until one day a villian named Donald came into the castle and stole a sacred {}. King Nickolaus and Queen Lily didn't know what to do, they wandered the countryside for days trying to come up with a plan. Finally, they met Oscar. Oscar told Nickolaus not to worry, and set off to take back what Donald had taken from the kingdom. Oscar hopped on zebra and rode it to the {} cave where Donald lived. Osacr tiptoed into the cave and yelled SCREW YOU. Donald was startled and dropped the sacred item. Oscar grabbed it and raced back to King Nicholaus. King Nickolaus was so greatful he gave Oscar a {} {} in exchange for his appreciation. Everyone in the Kingdom was so happy, they celebrated by eating delicious food. Donald never returned to the kingdom again and everyone lived happily ever after.\"\n",
    "#noun, adjective, adjective, noun, adjective, adjective, noun\n",
    "    \n",
    "def mad_lib() :\n",
    "    def mad_noun() :\n",
    "        global noun1\n",
    "        noun1 = input (\"Please enter a noun: \")\n",
    "        global noun2\n",
    "        noun2 = input (\"Please enter a noun: \")\n",
    "        global noun3\n",
    "        noun3 = input (\"Please enter a noun: \")\n",
    "    def mad_adj():\n",
    "        global adj1\n",
    "        adj1 = input (\"Please enter an adjective: \")\n",
    "        global adj2\n",
    "        adj2 = input (\"Please enter an adjective: \")\n",
    "        global adj3\n",
    "        adj3 = input (\"Please enter an adjective: \")\n",
    "        global adj4\n",
    "        adj4 = input (\"Please enter an adjective: \")\n",
    "    mad_noun()\n",
    "    mad_adj()\n",
    "    story = (\"Once upon a time int the kingdom of {}, there lived a {} adventurer named Oscar. The kingdom was a peaceful kingdom, where the animals roamed free and the food was plentiful. Ruling over the kingdom was {} King Nickolaus and Queen Lily. Everyone in the kingdom was happy, until one day a villian named Donald came into the castle and stole a sacred {}. King Nickolaus and Queen Lily didn't know what to do, they wandered the countryside for days trying to come up with a plan. Finally, they met Oscar. Oscar told Nickolaus not to worry, and set off to take back what Donald had taken from the kingdom. Oscar hopped on a zebra and rode it to the {} cave where Donald lived. Oscar tiptoed into the cave and yelled SCREW YOU. Donald was startled and dropped the sacred item. Oscar grabbed it and raced back to King Nicholaus. King Nickolaus was so greatful he gave Oscar a {} {} in exchange for his appreciation. Everyone in the Kingdom was so happy, they celebrated by eating delicious food. Donald never returned to the kingdom again and everyone lived happily ever after.\".format(noun1, adj1, adj2, noun2, adj3, adj4, noun3))\n",
    "    print (story)\n",
    "   \n",
    "mad_lib()"
   ]
  },
  {
   "cell_type": "code",
   "execution_count": null,
   "metadata": {
    "collapsed": true
   },
   "outputs": [],
   "source": []
  }
 ],
 "metadata": {
  "kernelspec": {
   "display_name": "Python 3",
   "language": "python",
   "name": "python3"
  },
  "language_info": {
   "codemirror_mode": {
    "name": "ipython",
    "version": 3
   },
   "file_extension": ".py",
   "mimetype": "text/x-python",
   "name": "python",
   "nbconvert_exporter": "python",
   "pygments_lexer": "ipython3",
   "version": "3.6.2"
  }
 },
 "nbformat": 4,
 "nbformat_minor": 2
}
